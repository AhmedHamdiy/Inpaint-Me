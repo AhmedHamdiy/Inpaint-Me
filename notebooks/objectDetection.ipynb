{
 "cells": [
  {
   "cell_type": "code",
   "execution_count": 25,
   "metadata": {},
   "outputs": [],
   "source": [
    "import cv2\n",
    "import numpy as np\n",
    "import os"
   ]
  },
  {
   "cell_type": "code",
   "execution_count": 26,
   "metadata": {},
   "outputs": [],
   "source": [
    "def save_image(image, filename):\n",
    "    \"\"\"\n",
    "    Save the image to a file.\n",
    "\n",
    "    Parameters:\n",
    "        image (numpy.ndarray): The image to save.\n",
    "        filename (str): The filename to save the image as.\n",
    "    \"\"\"\n",
    "    cv2.imwrite(filename, image)"
   ]
  },
  {
   "cell_type": "code",
   "execution_count": 27,
   "metadata": {},
   "outputs": [],
   "source": [
    "def fill_region_and_export(binary_image, x, y, output_dir):\n",
    "    \"\"\"\n",
    "    Highlights the (x, y) point and fills the region inside the contour containing the point.\n",
    "    Saves intermediate results as images.\n",
    "\n",
    "    Parameters:\n",
    "        binary_image (numpy.ndarray): Binary image with black background and white contours (2D array of 0s and 255s).\n",
    "        x (int): X-coordinate in the image.\n",
    "        y (int): Y-coordinate in the image.\n",
    "        output_dir (str): Directory where the output images will be saved.\n",
    "\n",
    "    Returns:\n",
    "        None\n",
    "    \"\"\"\n",
    "    if not os.path.exists(output_dir):\n",
    "        os.makedirs(output_dir)\n",
    "\n",
    "    # Save the original image\n",
    "    save_image(binary_image, os.path.join(output_dir, \"stage_1_original.png\"))\n",
    "\n",
    "    # Ensure the input is a binary image\n",
    "    if len(binary_image.shape) != 2 or binary_image.dtype != np.uint8:\n",
    "        raise ValueError(\"Input must be a binary image (2D array of dtype uint8).\")\n",
    "\n",
    "    # Check if the given pixel is inside a contour\n",
    "    if binary_image[y, x] == 255:\n",
    "        raise ValueError(\"The given point is in the contout\")\n",
    "\n",
    "    # Find all contours\n",
    "    contours, _ = cv2.findContours(binary_image, cv2.RETR_EXTERNAL, cv2.CHAIN_APPROX_SIMPLE)\n",
    "\n",
    "    # Find the contour containing the point\n",
    "    contour_found = False\n",
    "    for contour in contours:\n",
    "        if cv2.pointPolygonTest(contour, (x, y), measureDist=False) >= 0:\n",
    "            contour_found = True\n",
    "            # Create a mask for the specific contour\n",
    "            mask = np.zeros_like(binary_image, dtype=np.uint8)\n",
    "            cv2.drawContours(mask, [contour], -1, 255, thickness=cv2.FILLED)\n",
    "            save_image(mask, os.path.join(output_dir, \"stage_2_filled_region.png\"))\n",
    "            break\n",
    "\n",
    "    if not contour_found:\n",
    "        raise ValueError(\"No contour found containing the given point.\")\n",
    "\n",
    "    # Apply the mask to create the output\n",
    "    output_image = mask.copy()\n",
    "\n",
    "    # Highlight the point on the output image\n",
    "    output_image = cv2.circle(output_image, (x, y), radius=3, color=128, thickness=-1)\n",
    "    save_image(output_image, os.path.join(output_dir, \"stage_3_final_output.png\"))"
   ]
  },
  {
   "cell_type": "code",
   "execution_count": 28,
   "metadata": {},
   "outputs": [
    {
     "name": "stdout",
     "output_type": "stream",
     "text": [
      "Images saved in the directory: output_images\n"
     ]
    }
   ],
   "source": [
    "if __name__ == \"__main__\":\n",
    "    # Create a complex binary image with a black background and white contours\n",
    "    binary_image = np.zeros((400, 400), dtype=np.uint8)\n",
    "\n",
    "    # Draw multiple white contours for complexity\n",
    "    cv2.rectangle(binary_image, (50, 50), (150, 150), 255, thickness=2)\n",
    "    cv2.circle(binary_image, (200, 200), 50, 255, thickness=2)\n",
    "    cv2.ellipse(binary_image, (300, 300), (60, 40), 0, 0, 360, 255, thickness=2)\n",
    "    cv2.line(binary_image, (50, 300), (150, 350), 255, thickness=2)\n",
    "\n",
    "    # Coordinates for the point (inside the rectangle)\n",
    "    x, y = 120, 120\n",
    "\n",
    "    # Output directory\n",
    "    output_directory = \"output_images\"\n",
    "\n",
    "    # Call the function\n",
    "    fill_region_and_export(binary_image, x, y, output_directory)\n",
    "\n",
    "    print(f\"Images saved in the directory: {output_directory}\")"
   ]
  }
 ],
 "metadata": {
  "kernelspec": {
   "display_name": "my-conda-env",
   "language": "python",
   "name": "python3"
  },
  "language_info": {
   "codemirror_mode": {
    "name": "ipython",
    "version": 3
   },
   "file_extension": ".py",
   "mimetype": "text/x-python",
   "name": "python",
   "nbconvert_exporter": "python",
   "pygments_lexer": "ipython3",
   "version": "3.12.2"
  }
 },
 "nbformat": 4,
 "nbformat_minor": 2
}
